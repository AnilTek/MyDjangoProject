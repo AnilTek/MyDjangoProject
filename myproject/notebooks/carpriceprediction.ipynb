{
 "cells": [
  {
   "cell_type": "code",
   "execution_count": 1,
   "id": "4b959a69-aa47-4873-bc97-632ecb638533",
   "metadata": {},
   "outputs": [],
   "source": [
    "import pandas as pd\n",
    "import numpy as np\n",
    "import seaborn as sns \n",
    "import matplotlib.pyplot as plt\n",
    "%matplotlib inline"
   ]
  },
  {
   "cell_type": "code",
   "execution_count": 2,
   "id": "b0bede92-0570-4941-b8b5-98fb5c8d70de",
   "metadata": {},
   "outputs": [],
   "source": [
    "main_data = pd.read_csv('ford.csv')\n",
    "\n",
    "df = main_data.copy()"
   ]
  },
  {
   "cell_type": "code",
   "execution_count": 3,
   "id": "19f6ba38-423e-41a2-9f1d-c3f597d4d5ee",
   "metadata": {},
   "outputs": [
    {
     "data": {
      "text/html": [
       "<div>\n",
       "<style scoped>\n",
       "    .dataframe tbody tr th:only-of-type {\n",
       "        vertical-align: middle;\n",
       "    }\n",
       "\n",
       "    .dataframe tbody tr th {\n",
       "        vertical-align: top;\n",
       "    }\n",
       "\n",
       "    .dataframe thead th {\n",
       "        text-align: right;\n",
       "    }\n",
       "</style>\n",
       "<table border=\"1\" class=\"dataframe\">\n",
       "  <thead>\n",
       "    <tr style=\"text-align: right;\">\n",
       "      <th></th>\n",
       "      <th>model</th>\n",
       "      <th>year</th>\n",
       "      <th>price</th>\n",
       "      <th>transmission</th>\n",
       "      <th>mileage</th>\n",
       "      <th>fuelType</th>\n",
       "      <th>tax</th>\n",
       "      <th>mpg</th>\n",
       "      <th>engineSize</th>\n",
       "    </tr>\n",
       "  </thead>\n",
       "  <tbody>\n",
       "    <tr>\n",
       "      <th>0</th>\n",
       "      <td>Fiesta</td>\n",
       "      <td>2017</td>\n",
       "      <td>12000</td>\n",
       "      <td>Automatic</td>\n",
       "      <td>15944</td>\n",
       "      <td>Petrol</td>\n",
       "      <td>150</td>\n",
       "      <td>57.7</td>\n",
       "      <td>1.0</td>\n",
       "    </tr>\n",
       "    <tr>\n",
       "      <th>1</th>\n",
       "      <td>Focus</td>\n",
       "      <td>2018</td>\n",
       "      <td>14000</td>\n",
       "      <td>Manual</td>\n",
       "      <td>9083</td>\n",
       "      <td>Petrol</td>\n",
       "      <td>150</td>\n",
       "      <td>57.7</td>\n",
       "      <td>1.0</td>\n",
       "    </tr>\n",
       "    <tr>\n",
       "      <th>2</th>\n",
       "      <td>Focus</td>\n",
       "      <td>2017</td>\n",
       "      <td>13000</td>\n",
       "      <td>Manual</td>\n",
       "      <td>12456</td>\n",
       "      <td>Petrol</td>\n",
       "      <td>150</td>\n",
       "      <td>57.7</td>\n",
       "      <td>1.0</td>\n",
       "    </tr>\n",
       "    <tr>\n",
       "      <th>3</th>\n",
       "      <td>Fiesta</td>\n",
       "      <td>2019</td>\n",
       "      <td>17500</td>\n",
       "      <td>Manual</td>\n",
       "      <td>10460</td>\n",
       "      <td>Petrol</td>\n",
       "      <td>145</td>\n",
       "      <td>40.3</td>\n",
       "      <td>1.5</td>\n",
       "    </tr>\n",
       "    <tr>\n",
       "      <th>4</th>\n",
       "      <td>Fiesta</td>\n",
       "      <td>2019</td>\n",
       "      <td>16500</td>\n",
       "      <td>Automatic</td>\n",
       "      <td>1482</td>\n",
       "      <td>Petrol</td>\n",
       "      <td>145</td>\n",
       "      <td>48.7</td>\n",
       "      <td>1.0</td>\n",
       "    </tr>\n",
       "  </tbody>\n",
       "</table>\n",
       "</div>"
      ],
      "text/plain": [
       "     model  year  price transmission  mileage fuelType  tax   mpg  engineSize\n",
       "0   Fiesta  2017  12000    Automatic    15944   Petrol  150  57.7         1.0\n",
       "1    Focus  2018  14000       Manual     9083   Petrol  150  57.7         1.0\n",
       "2    Focus  2017  13000       Manual    12456   Petrol  150  57.7         1.0\n",
       "3   Fiesta  2019  17500       Manual    10460   Petrol  145  40.3         1.5\n",
       "4   Fiesta  2019  16500    Automatic     1482   Petrol  145  48.7         1.0"
      ]
     },
     "execution_count": 3,
     "metadata": {},
     "output_type": "execute_result"
    }
   ],
   "source": [
    "df.head() # data seitimizin basi "
   ]
  },
  {
   "cell_type": "code",
   "execution_count": 4,
   "id": "98c1b1d9-0a35-4950-ae1d-894ccefa8a89",
   "metadata": {},
   "outputs": [
    {
     "data": {
      "text/html": [
       "<div>\n",
       "<style scoped>\n",
       "    .dataframe tbody tr th:only-of-type {\n",
       "        vertical-align: middle;\n",
       "    }\n",
       "\n",
       "    .dataframe tbody tr th {\n",
       "        vertical-align: top;\n",
       "    }\n",
       "\n",
       "    .dataframe thead th {\n",
       "        text-align: right;\n",
       "    }\n",
       "</style>\n",
       "<table border=\"1\" class=\"dataframe\">\n",
       "  <thead>\n",
       "    <tr style=\"text-align: right;\">\n",
       "      <th></th>\n",
       "      <th>year</th>\n",
       "      <th>price</th>\n",
       "      <th>mileage</th>\n",
       "      <th>tax</th>\n",
       "      <th>mpg</th>\n",
       "      <th>engineSize</th>\n",
       "    </tr>\n",
       "  </thead>\n",
       "  <tbody>\n",
       "    <tr>\n",
       "      <th>count</th>\n",
       "      <td>17966.000000</td>\n",
       "      <td>17966.000000</td>\n",
       "      <td>17966.000000</td>\n",
       "      <td>17966.000000</td>\n",
       "      <td>17966.000000</td>\n",
       "      <td>17966.000000</td>\n",
       "    </tr>\n",
       "    <tr>\n",
       "      <th>mean</th>\n",
       "      <td>2016.866470</td>\n",
       "      <td>12279.534844</td>\n",
       "      <td>23362.608761</td>\n",
       "      <td>113.329456</td>\n",
       "      <td>57.906980</td>\n",
       "      <td>1.350807</td>\n",
       "    </tr>\n",
       "    <tr>\n",
       "      <th>std</th>\n",
       "      <td>2.050336</td>\n",
       "      <td>4741.343657</td>\n",
       "      <td>19472.054349</td>\n",
       "      <td>62.012456</td>\n",
       "      <td>10.125696</td>\n",
       "      <td>0.432367</td>\n",
       "    </tr>\n",
       "    <tr>\n",
       "      <th>min</th>\n",
       "      <td>1996.000000</td>\n",
       "      <td>495.000000</td>\n",
       "      <td>1.000000</td>\n",
       "      <td>0.000000</td>\n",
       "      <td>20.800000</td>\n",
       "      <td>0.000000</td>\n",
       "    </tr>\n",
       "    <tr>\n",
       "      <th>25%</th>\n",
       "      <td>2016.000000</td>\n",
       "      <td>8999.000000</td>\n",
       "      <td>9987.000000</td>\n",
       "      <td>30.000000</td>\n",
       "      <td>52.300000</td>\n",
       "      <td>1.000000</td>\n",
       "    </tr>\n",
       "    <tr>\n",
       "      <th>50%</th>\n",
       "      <td>2017.000000</td>\n",
       "      <td>11291.000000</td>\n",
       "      <td>18242.500000</td>\n",
       "      <td>145.000000</td>\n",
       "      <td>58.900000</td>\n",
       "      <td>1.200000</td>\n",
       "    </tr>\n",
       "    <tr>\n",
       "      <th>75%</th>\n",
       "      <td>2018.000000</td>\n",
       "      <td>15299.000000</td>\n",
       "      <td>31060.000000</td>\n",
       "      <td>145.000000</td>\n",
       "      <td>65.700000</td>\n",
       "      <td>1.500000</td>\n",
       "    </tr>\n",
       "    <tr>\n",
       "      <th>max</th>\n",
       "      <td>2060.000000</td>\n",
       "      <td>54995.000000</td>\n",
       "      <td>177644.000000</td>\n",
       "      <td>580.000000</td>\n",
       "      <td>201.800000</td>\n",
       "      <td>5.000000</td>\n",
       "    </tr>\n",
       "  </tbody>\n",
       "</table>\n",
       "</div>"
      ],
      "text/plain": [
       "               year         price        mileage           tax           mpg  \\\n",
       "count  17966.000000  17966.000000   17966.000000  17966.000000  17966.000000   \n",
       "mean    2016.866470  12279.534844   23362.608761    113.329456     57.906980   \n",
       "std        2.050336   4741.343657   19472.054349     62.012456     10.125696   \n",
       "min     1996.000000    495.000000       1.000000      0.000000     20.800000   \n",
       "25%     2016.000000   8999.000000    9987.000000     30.000000     52.300000   \n",
       "50%     2017.000000  11291.000000   18242.500000    145.000000     58.900000   \n",
       "75%     2018.000000  15299.000000   31060.000000    145.000000     65.700000   \n",
       "max     2060.000000  54995.000000  177644.000000    580.000000    201.800000   \n",
       "\n",
       "         engineSize  \n",
       "count  17966.000000  \n",
       "mean       1.350807  \n",
       "std        0.432367  \n",
       "min        0.000000  \n",
       "25%        1.000000  \n",
       "50%        1.200000  \n",
       "75%        1.500000  \n",
       "max        5.000000  "
      ]
     },
     "execution_count": 4,
     "metadata": {},
     "output_type": "execute_result"
    }
   ],
   "source": [
    "df.describe() ## describe bilgisi"
   ]
  },
  {
   "cell_type": "code",
   "execution_count": 5,
   "id": "203a4d7e-8cce-43ff-8c8c-a4b302e7bf79",
   "metadata": {},
   "outputs": [
    {
     "name": "stdout",
     "output_type": "stream",
     "text": [
      "<class 'pandas.core.frame.DataFrame'>\n",
      "RangeIndex: 17966 entries, 0 to 17965\n",
      "Data columns (total 9 columns):\n",
      " #   Column        Non-Null Count  Dtype  \n",
      "---  ------        --------------  -----  \n",
      " 0   model         17966 non-null  object \n",
      " 1   year          17966 non-null  int64  \n",
      " 2   price         17966 non-null  int64  \n",
      " 3   transmission  17966 non-null  object \n",
      " 4   mileage       17966 non-null  int64  \n",
      " 5   fuelType      17966 non-null  object \n",
      " 6   tax           17966 non-null  int64  \n",
      " 7   mpg           17966 non-null  float64\n",
      " 8   engineSize    17966 non-null  float64\n",
      "dtypes: float64(2), int64(4), object(3)\n",
      "memory usage: 1.2+ MB\n"
     ]
    }
   ],
   "source": [
    "df.info() ## info ile object olan sutunlara bakup kullanicaklarimi sayisal degere cevirecegim"
   ]
  },
  {
   "cell_type": "code",
   "execution_count": 6,
   "id": "4d2bd20f-e520-40c7-bb3a-6e9d2c5e04d7",
   "metadata": {},
   "outputs": [
    {
     "data": {
      "text/plain": [
       "transmission\n",
       "Manual       15518\n",
       "Automatic     1361\n",
       "Semi-Auto     1087\n",
       "Name: count, dtype: int64"
      ]
     },
     "execution_count": 6,
     "metadata": {},
     "output_type": "execute_result"
    }
   ],
   "source": [
    "df['transmission'].value_counts() ## 3 farkli deger "
   ]
  },
  {
   "cell_type": "code",
   "execution_count": 7,
   "id": "cf65ee8e-543e-44df-9016-f3a83d64b56a",
   "metadata": {},
   "outputs": [
    {
     "data": {
      "text/plain": [
       "fuelType\n",
       "Petrol      12179\n",
       "Diesel       5762\n",
       "Hybrid         22\n",
       "Electric        2\n",
       "Other           1\n",
       "Name: count, dtype: int64"
      ]
     },
     "execution_count": 7,
     "metadata": {},
     "output_type": "execute_result"
    }
   ],
   "source": [
    "df['fuelType'].value_counts() ## 5 farkli deger barindiriyor "
   ]
  },
  {
   "cell_type": "code",
   "execution_count": 8,
   "id": "d5153cee-6029-4bd5-be05-35d484c36220",
   "metadata": {},
   "outputs": [],
   "source": [
    " adjusted_df = pd.get_dummies(df,columns=['transmission','fuelType']) ## dummies yardimi ile cevirme"
   ]
  },
  {
   "cell_type": "code",
   "execution_count": 9,
   "id": "eefe4171-c196-4779-996d-816eefac971e",
   "metadata": {},
   "outputs": [
    {
     "data": {
      "text/html": [
       "<div>\n",
       "<style scoped>\n",
       "    .dataframe tbody tr th:only-of-type {\n",
       "        vertical-align: middle;\n",
       "    }\n",
       "\n",
       "    .dataframe tbody tr th {\n",
       "        vertical-align: top;\n",
       "    }\n",
       "\n",
       "    .dataframe thead th {\n",
       "        text-align: right;\n",
       "    }\n",
       "</style>\n",
       "<table border=\"1\" class=\"dataframe\">\n",
       "  <thead>\n",
       "    <tr style=\"text-align: right;\">\n",
       "      <th></th>\n",
       "      <th>model</th>\n",
       "      <th>year</th>\n",
       "      <th>price</th>\n",
       "      <th>mileage</th>\n",
       "      <th>tax</th>\n",
       "      <th>mpg</th>\n",
       "      <th>engineSize</th>\n",
       "      <th>transmission_Automatic</th>\n",
       "      <th>transmission_Manual</th>\n",
       "      <th>transmission_Semi-Auto</th>\n",
       "      <th>fuelType_Diesel</th>\n",
       "      <th>fuelType_Electric</th>\n",
       "      <th>fuelType_Hybrid</th>\n",
       "      <th>fuelType_Other</th>\n",
       "      <th>fuelType_Petrol</th>\n",
       "    </tr>\n",
       "  </thead>\n",
       "  <tbody>\n",
       "    <tr>\n",
       "      <th>0</th>\n",
       "      <td>Fiesta</td>\n",
       "      <td>2017</td>\n",
       "      <td>12000</td>\n",
       "      <td>15944</td>\n",
       "      <td>150</td>\n",
       "      <td>57.7</td>\n",
       "      <td>1.0</td>\n",
       "      <td>True</td>\n",
       "      <td>False</td>\n",
       "      <td>False</td>\n",
       "      <td>False</td>\n",
       "      <td>False</td>\n",
       "      <td>False</td>\n",
       "      <td>False</td>\n",
       "      <td>True</td>\n",
       "    </tr>\n",
       "    <tr>\n",
       "      <th>1</th>\n",
       "      <td>Focus</td>\n",
       "      <td>2018</td>\n",
       "      <td>14000</td>\n",
       "      <td>9083</td>\n",
       "      <td>150</td>\n",
       "      <td>57.7</td>\n",
       "      <td>1.0</td>\n",
       "      <td>False</td>\n",
       "      <td>True</td>\n",
       "      <td>False</td>\n",
       "      <td>False</td>\n",
       "      <td>False</td>\n",
       "      <td>False</td>\n",
       "      <td>False</td>\n",
       "      <td>True</td>\n",
       "    </tr>\n",
       "    <tr>\n",
       "      <th>2</th>\n",
       "      <td>Focus</td>\n",
       "      <td>2017</td>\n",
       "      <td>13000</td>\n",
       "      <td>12456</td>\n",
       "      <td>150</td>\n",
       "      <td>57.7</td>\n",
       "      <td>1.0</td>\n",
       "      <td>False</td>\n",
       "      <td>True</td>\n",
       "      <td>False</td>\n",
       "      <td>False</td>\n",
       "      <td>False</td>\n",
       "      <td>False</td>\n",
       "      <td>False</td>\n",
       "      <td>True</td>\n",
       "    </tr>\n",
       "    <tr>\n",
       "      <th>3</th>\n",
       "      <td>Fiesta</td>\n",
       "      <td>2019</td>\n",
       "      <td>17500</td>\n",
       "      <td>10460</td>\n",
       "      <td>145</td>\n",
       "      <td>40.3</td>\n",
       "      <td>1.5</td>\n",
       "      <td>False</td>\n",
       "      <td>True</td>\n",
       "      <td>False</td>\n",
       "      <td>False</td>\n",
       "      <td>False</td>\n",
       "      <td>False</td>\n",
       "      <td>False</td>\n",
       "      <td>True</td>\n",
       "    </tr>\n",
       "    <tr>\n",
       "      <th>4</th>\n",
       "      <td>Fiesta</td>\n",
       "      <td>2019</td>\n",
       "      <td>16500</td>\n",
       "      <td>1482</td>\n",
       "      <td>145</td>\n",
       "      <td>48.7</td>\n",
       "      <td>1.0</td>\n",
       "      <td>True</td>\n",
       "      <td>False</td>\n",
       "      <td>False</td>\n",
       "      <td>False</td>\n",
       "      <td>False</td>\n",
       "      <td>False</td>\n",
       "      <td>False</td>\n",
       "      <td>True</td>\n",
       "    </tr>\n",
       "  </tbody>\n",
       "</table>\n",
       "</div>"
      ],
      "text/plain": [
       "     model  year  price  mileage  tax   mpg  engineSize  \\\n",
       "0   Fiesta  2017  12000    15944  150  57.7         1.0   \n",
       "1    Focus  2018  14000     9083  150  57.7         1.0   \n",
       "2    Focus  2017  13000    12456  150  57.7         1.0   \n",
       "3   Fiesta  2019  17500    10460  145  40.3         1.5   \n",
       "4   Fiesta  2019  16500     1482  145  48.7         1.0   \n",
       "\n",
       "   transmission_Automatic  transmission_Manual  transmission_Semi-Auto  \\\n",
       "0                    True                False                   False   \n",
       "1                   False                 True                   False   \n",
       "2                   False                 True                   False   \n",
       "3                   False                 True                   False   \n",
       "4                    True                False                   False   \n",
       "\n",
       "   fuelType_Diesel  fuelType_Electric  fuelType_Hybrid  fuelType_Other  \\\n",
       "0            False              False            False           False   \n",
       "1            False              False            False           False   \n",
       "2            False              False            False           False   \n",
       "3            False              False            False           False   \n",
       "4            False              False            False           False   \n",
       "\n",
       "   fuelType_Petrol  \n",
       "0             True  \n",
       "1             True  \n",
       "2             True  \n",
       "3             True  \n",
       "4             True  "
      ]
     },
     "execution_count": 9,
     "metadata": {},
     "output_type": "execute_result"
    }
   ],
   "source": [
    "adjusted_df.head()"
   ]
  },
  {
   "cell_type": "code",
   "execution_count": 10,
   "id": "64633e50-1f31-496f-8241-40667a3f2480",
   "metadata": {},
   "outputs": [
    {
     "data": {
      "text/plain": [
       "Index(['model', 'year', 'price', 'mileage', 'tax', 'mpg', 'engineSize',\n",
       "       'transmission_Automatic', 'transmission_Manual',\n",
       "       'transmission_Semi-Auto', 'fuelType_Diesel', 'fuelType_Electric',\n",
       "       'fuelType_Hybrid', 'fuelType_Other', 'fuelType_Petrol'],\n",
       "      dtype='object')"
      ]
     },
     "execution_count": 10,
     "metadata": {},
     "output_type": "execute_result"
    }
   ],
   "source": [
    "adjusted_df.columns ## sutun ismlerinden memnun degilim bu sebeple biraz degisiklik uygulayacagim"
   ]
  },
  {
   "cell_type": "code",
   "execution_count": 11,
   "id": "bb476d19-c6f3-46ad-a392-f2e53bf3ef9d",
   "metadata": {},
   "outputs": [],
   "source": [
    "adjusted_df.columns = [['model', 'year', 'price', 'mileage', 'tax', 'mpg', 'engineSize',\n",
    "       'transmission_Automatic', 'transmission_Manual',\n",
    "       'transmission_Semi', 'fuel_Diesel', 'fuel_Electric',\n",
    "       'fuel_Hybrid', 'fuel_Other', 'fuel_Petrol']] ## yeni sutun isimleri"
   ]
  },
  {
   "cell_type": "code",
   "execution_count": 12,
   "id": "a46d324e-94f0-408c-b447-83844f223c5d",
   "metadata": {},
   "outputs": [],
   "source": [
    "adjusted_df['transmission_Automatic'] = adjusted_df['transmission_Automatic'].astype(int)\n",
    "adjusted_df['transmission_Manual'] = adjusted_df['transmission_Manual'].astype(int)\n",
    "adjusted_df['transmission_Semi'] = adjusted_df['transmission_Semi'].astype(int)\n",
    "adjusted_df['fuel_Diesel'] = adjusted_df['fuel_Diesel'].astype(int)\n",
    "adjusted_df['fuel_Electric'] = adjusted_df['fuel_Electric'].astype(int)\n",
    "adjusted_df['fuel_Hybrid'] = adjusted_df['fuel_Hybrid'].astype(int)\n",
    "adjusted_df['fuel_Other'] = adjusted_df['fuel_Other'].astype(int)\n",
    "adjusted_df['fuel_Petrol'] = adjusted_df['fuel_Petrol'].astype(int) ## dummies sonrasi boolean degerleri yerine sayisal degerler int getirdim"
   ]
  },
  {
   "cell_type": "code",
   "execution_count": 13,
   "id": "b28ffa85-41f3-4999-a4fa-12cfa2ece247",
   "metadata": {},
   "outputs": [
    {
     "name": "stdout",
     "output_type": "stream",
     "text": [
      "<class 'pandas.core.frame.DataFrame'>\n",
      "RangeIndex: 17966 entries, 0 to 17965\n",
      "Data columns (total 15 columns):\n",
      " #   Column                     Non-Null Count  Dtype  \n",
      "---  ------                     --------------  -----  \n",
      " 0   (model,)                   17966 non-null  object \n",
      " 1   (year,)                    17966 non-null  int64  \n",
      " 2   (price,)                   17966 non-null  int64  \n",
      " 3   (mileage,)                 17966 non-null  int64  \n",
      " 4   (tax,)                     17966 non-null  int64  \n",
      " 5   (mpg,)                     17966 non-null  float64\n",
      " 6   (engineSize,)              17966 non-null  float64\n",
      " 7   (transmission_Automatic,)  17966 non-null  int32  \n",
      " 8   (transmission_Manual,)     17966 non-null  int32  \n",
      " 9   (transmission_Semi,)       17966 non-null  int32  \n",
      " 10  (fuel_Diesel,)             17966 non-null  int32  \n",
      " 11  (fuel_Electric,)           17966 non-null  int32  \n",
      " 12  (fuel_Hybrid,)             17966 non-null  int32  \n",
      " 13  (fuel_Other,)              17966 non-null  int32  \n",
      " 14  (fuel_Petrol,)             17966 non-null  int32  \n",
      "dtypes: float64(2), int32(8), int64(4), object(1)\n",
      "memory usage: 1.5+ MB\n"
     ]
    }
   ],
   "source": [
    "adjusted_df.info() ## simdi info sayseinde sadece 1 adet categorical sutunum kaldi o da kalsin digerlerini ML modeline girebilecek format haline getirdim"
   ]
  },
  {
   "cell_type": "code",
   "execution_count": 14,
   "id": "abf0eefa-af28-4c28-a492-5993e8886bfd",
   "metadata": {},
   "outputs": [
    {
     "name": "stderr",
     "output_type": "stream",
     "text": [
      "C:\\Users\\Anıl Tek\\AppData\\Local\\Temp\\ipykernel_9648\\2192246597.py:1: PerformanceWarning: dropping on a non-lexsorted multi-index without a level parameter may impact performance.\n",
      "  adjusted_df.drop('model',axis=1).corr() ## Korelasyon String degerler ile birlikte calismaz\n"
     ]
    },
    {
     "data": {
      "text/html": [
       "<div>\n",
       "<style scoped>\n",
       "    .dataframe tbody tr th:only-of-type {\n",
       "        vertical-align: middle;\n",
       "    }\n",
       "\n",
       "    .dataframe tbody tr th {\n",
       "        vertical-align: top;\n",
       "    }\n",
       "\n",
       "    .dataframe thead tr th {\n",
       "        text-align: left;\n",
       "    }\n",
       "</style>\n",
       "<table border=\"1\" class=\"dataframe\">\n",
       "  <thead>\n",
       "    <tr>\n",
       "      <th></th>\n",
       "      <th>year</th>\n",
       "      <th>price</th>\n",
       "      <th>mileage</th>\n",
       "      <th>tax</th>\n",
       "      <th>mpg</th>\n",
       "      <th>engineSize</th>\n",
       "      <th>transmission_Automatic</th>\n",
       "      <th>transmission_Manual</th>\n",
       "      <th>transmission_Semi</th>\n",
       "      <th>fuel_Diesel</th>\n",
       "      <th>fuel_Electric</th>\n",
       "      <th>fuel_Hybrid</th>\n",
       "      <th>fuel_Other</th>\n",
       "      <th>fuel_Petrol</th>\n",
       "    </tr>\n",
       "  </thead>\n",
       "  <tbody>\n",
       "    <tr>\n",
       "      <th>year</th>\n",
       "      <td>1.000000</td>\n",
       "      <td>0.636009</td>\n",
       "      <td>-0.707818</td>\n",
       "      <td>0.298506</td>\n",
       "      <td>-0.022967</td>\n",
       "      <td>-0.137311</td>\n",
       "      <td>0.036498</td>\n",
       "      <td>-0.037896</td>\n",
       "      <td>0.014022</td>\n",
       "      <td>-0.088734</td>\n",
       "      <td>-0.004459</td>\n",
       "      <td>0.024016</td>\n",
       "      <td>-0.006792</td>\n",
       "      <td>0.087045</td>\n",
       "    </tr>\n",
       "    <tr>\n",
       "      <th>price</th>\n",
       "      <td>0.636009</td>\n",
       "      <td>1.000000</td>\n",
       "      <td>-0.530659</td>\n",
       "      <td>0.406857</td>\n",
       "      <td>-0.346419</td>\n",
       "      <td>0.411178</td>\n",
       "      <td>0.208185</td>\n",
       "      <td>-0.258757</td>\n",
       "      <td>0.141278</td>\n",
       "      <td>0.199945</td>\n",
       "      <td>0.007696</td>\n",
       "      <td>0.072889</td>\n",
       "      <td>0.002393</td>\n",
       "      <td>-0.205385</td>\n",
       "    </tr>\n",
       "    <tr>\n",
       "      <th>mileage</th>\n",
       "      <td>-0.707818</td>\n",
       "      <td>-0.530659</td>\n",
       "      <td>1.000000</td>\n",
       "      <td>-0.260451</td>\n",
       "      <td>0.120075</td>\n",
       "      <td>0.215035</td>\n",
       "      <td>-0.050340</td>\n",
       "      <td>0.059756</td>\n",
       "      <td>-0.030114</td>\n",
       "      <td>0.257624</td>\n",
       "      <td>-0.003468</td>\n",
       "      <td>-0.001368</td>\n",
       "      <td>-0.001492</td>\n",
       "      <td>-0.257126</td>\n",
       "    </tr>\n",
       "    <tr>\n",
       "      <th>tax</th>\n",
       "      <td>0.298506</td>\n",
       "      <td>0.406857</td>\n",
       "      <td>-0.260451</td>\n",
       "      <td>1.000000</td>\n",
       "      <td>-0.502980</td>\n",
       "      <td>0.184363</td>\n",
       "      <td>0.154952</td>\n",
       "      <td>-0.181723</td>\n",
       "      <td>0.089512</td>\n",
       "      <td>-0.128912</td>\n",
       "      <td>-0.019284</td>\n",
       "      <td>-0.007142</td>\n",
       "      <td>-0.013635</td>\n",
       "      <td>0.129953</td>\n",
       "    </tr>\n",
       "    <tr>\n",
       "      <th>mpg</th>\n",
       "      <td>-0.022967</td>\n",
       "      <td>-0.346419</td>\n",
       "      <td>0.120075</td>\n",
       "      <td>-0.502980</td>\n",
       "      <td>1.000000</td>\n",
       "      <td>-0.260521</td>\n",
       "      <td>-0.235047</td>\n",
       "      <td>0.302291</td>\n",
       "      <td>-0.174106</td>\n",
       "      <td>0.293547</td>\n",
       "      <td>0.009788</td>\n",
       "      <td>0.106737</td>\n",
       "      <td>0.006921</td>\n",
       "      <td>-0.301532</td>\n",
       "    </tr>\n",
       "    <tr>\n",
       "      <th>engineSize</th>\n",
       "      <td>-0.137311</td>\n",
       "      <td>0.411178</td>\n",
       "      <td>0.215035</td>\n",
       "      <td>0.184363</td>\n",
       "      <td>-0.260521</td>\n",
       "      <td>1.000000</td>\n",
       "      <td>0.163889</td>\n",
       "      <td>-0.224341</td>\n",
       "      <td>0.140918</td>\n",
       "      <td>0.642144</td>\n",
       "      <td>0.015843</td>\n",
       "      <td>0.054416</td>\n",
       "      <td>0.011203</td>\n",
       "      <td>-0.646022</td>\n",
       "    </tr>\n",
       "    <tr>\n",
       "      <th>transmission_Automatic</th>\n",
       "      <td>0.036498</td>\n",
       "      <td>0.208185</td>\n",
       "      <td>-0.050340</td>\n",
       "      <td>0.154952</td>\n",
       "      <td>-0.235047</td>\n",
       "      <td>0.163889</td>\n",
       "      <td>1.000000</td>\n",
       "      <td>-0.720812</td>\n",
       "      <td>-0.072653</td>\n",
       "      <td>0.057914</td>\n",
       "      <td>0.036856</td>\n",
       "      <td>0.104260</td>\n",
       "      <td>0.026060</td>\n",
       "      <td>-0.066899</td>\n",
       "    </tr>\n",
       "    <tr>\n",
       "      <th>transmission_Manual</th>\n",
       "      <td>-0.037896</td>\n",
       "      <td>-0.258757</td>\n",
       "      <td>0.059756</td>\n",
       "      <td>-0.181723</td>\n",
       "      <td>0.302291</td>\n",
       "      <td>-0.224341</td>\n",
       "      <td>-0.720812</td>\n",
       "      <td>1.000000</td>\n",
       "      <td>-0.638930</td>\n",
       "      <td>-0.098333</td>\n",
       "      <td>-0.026566</td>\n",
       "      <td>-0.083519</td>\n",
       "      <td>-0.018784</td>\n",
       "      <td>0.105372</td>\n",
       "    </tr>\n",
       "    <tr>\n",
       "      <th>transmission_Semi</th>\n",
       "      <td>0.014022</td>\n",
       "      <td>0.141278</td>\n",
       "      <td>-0.030114</td>\n",
       "      <td>0.089512</td>\n",
       "      <td>-0.174106</td>\n",
       "      <td>0.140918</td>\n",
       "      <td>-0.072653</td>\n",
       "      <td>-0.638930</td>\n",
       "      <td>1.000000</td>\n",
       "      <td>0.077218</td>\n",
       "      <td>-0.002678</td>\n",
       "      <td>0.004466</td>\n",
       "      <td>-0.001893</td>\n",
       "      <td>-0.077374</td>\n",
       "    </tr>\n",
       "    <tr>\n",
       "      <th>fuel_Diesel</th>\n",
       "      <td>-0.088734</td>\n",
       "      <td>0.199945</td>\n",
       "      <td>0.257624</td>\n",
       "      <td>-0.128912</td>\n",
       "      <td>0.293547</td>\n",
       "      <td>0.642144</td>\n",
       "      <td>0.057914</td>\n",
       "      <td>-0.098333</td>\n",
       "      <td>0.077218</td>\n",
       "      <td>1.000000</td>\n",
       "      <td>-0.007250</td>\n",
       "      <td>-0.024060</td>\n",
       "      <td>-0.005127</td>\n",
       "      <td>-0.996815</td>\n",
       "    </tr>\n",
       "    <tr>\n",
       "      <th>fuel_Electric</th>\n",
       "      <td>-0.004459</td>\n",
       "      <td>0.007696</td>\n",
       "      <td>-0.003468</td>\n",
       "      <td>-0.019284</td>\n",
       "      <td>0.009788</td>\n",
       "      <td>0.015843</td>\n",
       "      <td>0.036856</td>\n",
       "      <td>-0.026566</td>\n",
       "      <td>-0.002678</td>\n",
       "      <td>-0.007250</td>\n",
       "      <td>1.000000</td>\n",
       "      <td>-0.000369</td>\n",
       "      <td>-0.000079</td>\n",
       "      <td>-0.015307</td>\n",
       "    </tr>\n",
       "    <tr>\n",
       "      <th>fuel_Hybrid</th>\n",
       "      <td>0.024016</td>\n",
       "      <td>0.072889</td>\n",
       "      <td>-0.001368</td>\n",
       "      <td>-0.007142</td>\n",
       "      <td>0.106737</td>\n",
       "      <td>0.054416</td>\n",
       "      <td>0.104260</td>\n",
       "      <td>-0.083519</td>\n",
       "      <td>0.004466</td>\n",
       "      <td>-0.024060</td>\n",
       "      <td>-0.000369</td>\n",
       "      <td>1.000000</td>\n",
       "      <td>-0.000261</td>\n",
       "      <td>-0.050796</td>\n",
       "    </tr>\n",
       "    <tr>\n",
       "      <th>fuel_Other</th>\n",
       "      <td>-0.006792</td>\n",
       "      <td>0.002393</td>\n",
       "      <td>-0.001492</td>\n",
       "      <td>-0.013635</td>\n",
       "      <td>0.006921</td>\n",
       "      <td>0.011203</td>\n",
       "      <td>0.026060</td>\n",
       "      <td>-0.018784</td>\n",
       "      <td>-0.001893</td>\n",
       "      <td>-0.005127</td>\n",
       "      <td>-0.000079</td>\n",
       "      <td>-0.000261</td>\n",
       "      <td>1.000000</td>\n",
       "      <td>-0.010823</td>\n",
       "    </tr>\n",
       "    <tr>\n",
       "      <th>fuel_Petrol</th>\n",
       "      <td>0.087045</td>\n",
       "      <td>-0.205385</td>\n",
       "      <td>-0.257126</td>\n",
       "      <td>0.129953</td>\n",
       "      <td>-0.301532</td>\n",
       "      <td>-0.646022</td>\n",
       "      <td>-0.066899</td>\n",
       "      <td>0.105372</td>\n",
       "      <td>-0.077374</td>\n",
       "      <td>-0.996815</td>\n",
       "      <td>-0.015307</td>\n",
       "      <td>-0.050796</td>\n",
       "      <td>-0.010823</td>\n",
       "      <td>1.000000</td>\n",
       "    </tr>\n",
       "  </tbody>\n",
       "</table>\n",
       "</div>"
      ],
      "text/plain": [
       "                            year     price   mileage       tax       mpg  \\\n",
       "year                    1.000000  0.636009 -0.707818  0.298506 -0.022967   \n",
       "price                   0.636009  1.000000 -0.530659  0.406857 -0.346419   \n",
       "mileage                -0.707818 -0.530659  1.000000 -0.260451  0.120075   \n",
       "tax                     0.298506  0.406857 -0.260451  1.000000 -0.502980   \n",
       "mpg                    -0.022967 -0.346419  0.120075 -0.502980  1.000000   \n",
       "engineSize             -0.137311  0.411178  0.215035  0.184363 -0.260521   \n",
       "transmission_Automatic  0.036498  0.208185 -0.050340  0.154952 -0.235047   \n",
       "transmission_Manual    -0.037896 -0.258757  0.059756 -0.181723  0.302291   \n",
       "transmission_Semi       0.014022  0.141278 -0.030114  0.089512 -0.174106   \n",
       "fuel_Diesel            -0.088734  0.199945  0.257624 -0.128912  0.293547   \n",
       "fuel_Electric          -0.004459  0.007696 -0.003468 -0.019284  0.009788   \n",
       "fuel_Hybrid             0.024016  0.072889 -0.001368 -0.007142  0.106737   \n",
       "fuel_Other             -0.006792  0.002393 -0.001492 -0.013635  0.006921   \n",
       "fuel_Petrol             0.087045 -0.205385 -0.257126  0.129953 -0.301532   \n",
       "\n",
       "                       engineSize transmission_Automatic transmission_Manual  \\\n",
       "year                    -0.137311               0.036498           -0.037896   \n",
       "price                    0.411178               0.208185           -0.258757   \n",
       "mileage                  0.215035              -0.050340            0.059756   \n",
       "tax                      0.184363               0.154952           -0.181723   \n",
       "mpg                     -0.260521              -0.235047            0.302291   \n",
       "engineSize               1.000000               0.163889           -0.224341   \n",
       "transmission_Automatic   0.163889               1.000000           -0.720812   \n",
       "transmission_Manual     -0.224341              -0.720812            1.000000   \n",
       "transmission_Semi        0.140918              -0.072653           -0.638930   \n",
       "fuel_Diesel              0.642144               0.057914           -0.098333   \n",
       "fuel_Electric            0.015843               0.036856           -0.026566   \n",
       "fuel_Hybrid              0.054416               0.104260           -0.083519   \n",
       "fuel_Other               0.011203               0.026060           -0.018784   \n",
       "fuel_Petrol             -0.646022              -0.066899            0.105372   \n",
       "\n",
       "                       transmission_Semi fuel_Diesel fuel_Electric  \\\n",
       "year                            0.014022   -0.088734     -0.004459   \n",
       "price                           0.141278    0.199945      0.007696   \n",
       "mileage                        -0.030114    0.257624     -0.003468   \n",
       "tax                             0.089512   -0.128912     -0.019284   \n",
       "mpg                            -0.174106    0.293547      0.009788   \n",
       "engineSize                      0.140918    0.642144      0.015843   \n",
       "transmission_Automatic         -0.072653    0.057914      0.036856   \n",
       "transmission_Manual            -0.638930   -0.098333     -0.026566   \n",
       "transmission_Semi               1.000000    0.077218     -0.002678   \n",
       "fuel_Diesel                     0.077218    1.000000     -0.007250   \n",
       "fuel_Electric                  -0.002678   -0.007250      1.000000   \n",
       "fuel_Hybrid                     0.004466   -0.024060     -0.000369   \n",
       "fuel_Other                     -0.001893   -0.005127     -0.000079   \n",
       "fuel_Petrol                    -0.077374   -0.996815     -0.015307   \n",
       "\n",
       "                       fuel_Hybrid fuel_Other fuel_Petrol  \n",
       "year                      0.024016  -0.006792    0.087045  \n",
       "price                     0.072889   0.002393   -0.205385  \n",
       "mileage                  -0.001368  -0.001492   -0.257126  \n",
       "tax                      -0.007142  -0.013635    0.129953  \n",
       "mpg                       0.106737   0.006921   -0.301532  \n",
       "engineSize                0.054416   0.011203   -0.646022  \n",
       "transmission_Automatic    0.104260   0.026060   -0.066899  \n",
       "transmission_Manual      -0.083519  -0.018784    0.105372  \n",
       "transmission_Semi         0.004466  -0.001893   -0.077374  \n",
       "fuel_Diesel              -0.024060  -0.005127   -0.996815  \n",
       "fuel_Electric            -0.000369  -0.000079   -0.015307  \n",
       "fuel_Hybrid               1.000000  -0.000261   -0.050796  \n",
       "fuel_Other               -0.000261   1.000000   -0.010823  \n",
       "fuel_Petrol              -0.050796  -0.010823    1.000000  "
      ]
     },
     "execution_count": 14,
     "metadata": {},
     "output_type": "execute_result"
    }
   ],
   "source": [
    "adjusted_df.drop('model',axis=1).corr() ## Korelasyon String degerler ile birlikte calismaz\n",
    "# bu sebeple geceici olarak model sutununu drop edip oyle korelasyona bakacagim ve price ile diger sutunlar arasinda olan \n",
    "# iliskileri inceleyecegim"
   ]
  },
  {
   "cell_type": "markdown",
   "id": "ece3cffe-8cd7-46f5-b016-8a22e7af64d3",
   "metadata": {},
   "source": [
    "# Degerlendirme"
   ]
  },
  {
   "cell_type": "raw",
   "id": "094b0218-4420-4315-bde7-714d4c59126c",
   "metadata": {},
   "source": [
    "1 - Price ile '+' yonde korelasyon yapanlar (year,tax,engineSize,transmission_Automatic,transmission_Semi,fuel_Diesel)\n",
    "2-  Price ile '-' yonde korelasyon yapanlar (mileage,mpg,transmission_Manual,fuel_Petrol)\n",
    "\n",
    "!!! Gorundugu uzere araclarin benzin ve manuel olmasi fiyatlarina kotu yonde etki sagliyor ayrica aracin millage yani yaptigi\n",
    "    yol kullanim mesafesi arttikca araba da bariz bir sekilde -0.5 bir fiyat dususune sebep vermektedir!!!\n",
    "\n",
    "!!! Ayrica araba ne kadar yeni ise o kadar fiyat artisi motor hacmi artmasi durumunda ayni sekilde bir fiyat artisi ve aracin kullandigi\n",
    "    yakit turunun benzin yerine diesel veya elektrikli olmasi arabanin uzerinde fiyat artisina sebep olmaktadir ayrica Otomatik ve yari \n",
    "    otomatik sanzimanlarin da araba da fiyata pozitif etkisi bariz bir sekilde gorulmektedir !!!"
   ]
  },
  {
   "cell_type": "markdown",
   "id": "54de291a-7450-4cc2-8c31-c9a9ace76dd1",
   "metadata": {},
   "source": [
    "# Gorsellestirme Ile Anlatim"
   ]
  },
  {
   "cell_type": "code",
   "execution_count": 15,
   "id": "33ff82f8-6434-4bc0-9a4b-7ca073d5a53a",
   "metadata": {},
   "outputs": [
    {
     "data": {
      "text/plain": [
       "<seaborn.axisgrid.JointGrid at 0x1f4de179c90>"
      ]
     },
     "execution_count": 15,
     "metadata": {},
     "output_type": "execute_result"
    },
    {
     "data": {
      "image/png": "[encoded data removed]",
      "text/plain": [
       "<Figure size 600x600 with 3 Axes>"
      ]
     },
     "metadata": {},
     "output_type": "display_data"
    }
   ],
   "source": [
    "sns.jointplot(x='mileage',y='price',data=df) "
   ]
  },
  {
   "cell_type": "raw",
   "id": "cab97df9-83fd-4f88-b46c-ab85be830430",
   "metadata": {},
   "source": [
    "Yukarida goruldugu uzere aracin kullanildigi mesafe mileage'in aracin fiyati uzerinde bulunan etkisi oldukca fazla \n",
    "guzel bir sekilde dagilmis grafiktede anlasilir bir bicimde gorebiliyoruz"
   ]
  },
  {
   "cell_type": "code",
   "execution_count": 16,
   "id": "fced7348-5343-4a4d-b687-711f01b58966",
   "metadata": {},
   "outputs": [
    {
     "data": {
      "image/png": "[encoded data removed]",
      "text/plain": [
       "<Figure size 800x600 with 1 Axes>"
      ]
     },
     "metadata": {},
     "output_type": "display_data"
    }
   ],
   "source": [
    "mean_prices = df.groupby('fuelType')['price'].mean() ## araclarin fuel tipine gore groupby yapilmasi ardindan degerlerinin ortalamasinin alinmasi\n",
    "colors = ['blue', 'pink', 'yellow','black','orange'] ## bir plot olsuturcagim elimde 5 adet Categorical index oldugu icin 5 adet renk seciyorum \n",
    "\n",
    "plt.figure(figsize=(8, 6)) ## 8 e 6 lik bir plot taslaigi olusturdum\n",
    "mean_prices.plot(kind='bar', color=colors)\n",
    "plt.title('Average Vehicle Prices According to Fuel Type') ## Plotumun basligi\n",
    "plt.xlabel('Fuel Type') ## X eksen labelinin ismi\n",
    "plt.ylabel('Average Price')## Y eksen labelinin ismi\n",
    "plt.grid(axis='y') ## y ekseninde olan her price point i ayirt edebilecek bir serit koyuyorum\n",
    "plt.tight_layout()\n",
    "plt.show()"
   ]
  },
  {
   "cell_type": "raw",
   "id": "d790c94c-9a60-49b5-ac54-aa6bf15c3282",
   "metadata": {},
   "source": [
    "Korelasyon tablosunda gozlemledigimiz gibi petrol kullanan araclarin fiyatlari diger aracalara gore ortalamada daha ucuz oldugu ve \n",
    "fiyatin en fazla oldugu araclarin Hybrid araclar oldugunu goruyoruz\n",
    "\n",
    "\n",
    "!! Mean kullanilma sebebi verilerde olabilecek dengesiz dagilimin tabloda yaniltici bir sonuca bizi gosturme ihtimalinden kaynaklaniyor !!"
   ]
  },
  {
   "cell_type": "code",
   "execution_count": 17,
   "id": "8fd6d4b4-74bb-4976-804f-05f0e9f63490",
   "metadata": {},
   "outputs": [
    {
     "data": {
      "text/plain": [
       "fuelType\n",
       "Petrol      12179\n",
       "Diesel       5762\n",
       "Hybrid         22\n",
       "Electric        2\n",
       "Other           1\n",
       "Name: count, dtype: int64"
      ]
     },
     "execution_count": 17,
     "metadata": {},
     "output_type": "execute_result"
    }
   ],
   "source": [
    "df['fuelType'].value_counts() ## Petrol kullanan araclarin sayisini diger araclara kiyasla cook fazla olmasi bu konuda bizi yanlis bir \n",
    "## sonuca goturebilir ornek olarak "
   ]
  },
  {
   "cell_type": "code",
   "execution_count": 18,
   "id": "c4ac1613-4b94-4fbc-a797-5a2049a68b03",
   "metadata": {},
   "outputs": [
    {
     "data": {
      "image/png": "[encoded data removed]",
      "text/plain": [
       "<Figure size 800x600 with 1 Axes>"
      ]
     },
     "metadata": {},
     "output_type": "display_data"
    }
   ],
   "source": [
    "mean_prices = df.groupby('fuelType')['price'].sum()\n",
    "colors = ['blue', 'pink', 'yellow','black','orange'] \n",
    "\n",
    "plt.figure(figsize=(8, 6)) \n",
    "mean_prices.plot(kind='bar', color=colors)\n",
    "plt.title('Sum of Prices According to Fuel Type') \n",
    "plt.xlabel('Fuel Type')\n",
    "plt.ylabel('Sum of prices')\n",
    "plt.grid(axis='y')\n",
    "plt.tight_layout()\n",
    "plt.show()"
   ]
  },
  {
   "cell_type": "markdown",
   "id": "3aee9c2e-a965-41f9-aaed-21c74ddef933",
   "metadata": {},
   "source": [
    "# Goruldugu gibi sayisindan kaynakli petrol ve dieselin markette olan dominasyonu farkli sonuclara goturebiliyor bu sebepten \n",
    "# dolayi (SUM) yerine (MEAN) Kullanildi yukaridaki Yanlis bir kullanim bicimdir"
   ]
  },
  {
   "cell_type": "code",
   "execution_count": 19,
   "id": "a91760c2-8976-46d7-9b0e-75a444edfd4c",
   "metadata": {},
   "outputs": [
    {
     "data": {
      "text/plain": [
       "<seaborn.axisgrid.JointGrid at 0x1f4e07c1e90>"
      ]
     },
     "execution_count": 19,
     "metadata": {},
     "output_type": "execute_result"
    },
    {
     "data": {
      "image/png": "[encoded data removed]",
      "text/plain": [
       "<Figure size 600x600 with 3 Axes>"
      ]
     },
     "metadata": {},
     "output_type": "display_data"
    }
   ],
   "source": [
    "sns.jointplot(x='year',y='price',data=df) "
   ]
  },
  {
   "cell_type": "code",
   "execution_count": 20,
   "id": "78cfe665-ca30-420c-8289-5d2b12e63bf1",
   "metadata": {},
   "outputs": [
    {
     "data": {
      "image/png": "[encoded data removed]",
      "text/plain": [
       "<Figure size 800x600 with 1 Axes>"
      ]
     },
     "metadata": {},
     "output_type": "display_data"
    }
   ],
   "source": [
    "mean_prices = df.groupby('transmission')['price'].mean()\n",
    "colors = ['black', 'orange', 'red'] \n",
    "\n",
    "plt.figure(figsize=(8, 6)) \n",
    "mean_prices.plot(kind='bar', color=colors)\n",
    "plt.title('Mean Of Prices According to Fuel Type') \n",
    "plt.xlabel('Transmission Type')\n",
    "plt.ylabel('Mean of prices')\n",
    "plt.grid(axis='y')\n",
    "plt.tight_layout()\n",
    "plt.show()"
   ]
  },
  {
   "cell_type": "markdown",
   "id": "601e8fe3-9b8b-4005-bcb6-3c8f4fb870b8",
   "metadata": {},
   "source": [
    "!! Sanziman olarak da goruldugu gibi manuel sanziman daha az Automatic sanziman ise daha az yari otomatik de ikisi arasinda bulunuyor\n",
    "bunu sebebinin ben otomatik arablarin yil ve teknoloji sebebi ile yeni araclara daha fazla manuel ise eski arabalarda oldugundan bu farkin oldugunu\n",
    "dusunuyorum yani artik otomatik vites normallesmis bos paketlerde dahil nerdedeyse bulundugu icin aslinda manual arabalarin fiyatinin eski olduklarindan\n",
    "boyle olduklarini dusunuyorum inceleyecegim"
   ]
  },
  {
   "cell_type": "code",
   "execution_count": 21,
   "id": "e02429c6-c8df-4e6e-b2df-39b03be84ecd",
   "metadata": {},
   "outputs": [],
   "source": [
    "year_transmission = df.groupby('year')['transmission'].value_counts()"
   ]
  },
  {
   "cell_type": "code",
   "execution_count": null,
   "id": "027691c9-da34-4b79-ad50-18b8a4930812",
   "metadata": {},
   "outputs": [],
   "source": []
  },
  {
   "cell_type": "code",
   "execution_count": 22,
   "id": "541bc3df-392d-41b6-bcbf-5e789cc58c11",
   "metadata": {},
   "outputs": [],
   "source": [
    "transmission_year = df.groupby('transmission')['year'].mean()"
   ]
  },
  {
   "cell_type": "code",
   "execution_count": 23,
   "id": "75ef21ae-a154-4fab-a489-3cad9b09cd88",
   "metadata": {},
   "outputs": [
    {
     "data": {
      "text/plain": [
       "transmission\n",
       "Automatic    2017.127847\n",
       "Manual       2016.835610\n",
       "Semi-Auto    2016.979761\n",
       "Name: year, dtype: float64"
      ]
     },
     "execution_count": 23,
     "metadata": {},
     "output_type": "execute_result"
    }
   ],
   "source": [
    "transmission_year"
   ]
  },
  {
   "cell_type": "raw",
   "id": "bbefad96-abab-44d1-a201-4e9fb24d5291",
   "metadata": {},
   "source": [
    "BU TEORIMIN DOGRU OLMADIGINI GORUYORUM"
   ]
  },
  {
   "cell_type": "raw",
   "id": "1bd45dd4-dc57-492b-8b48-8da7b4cda886",
   "metadata": {},
   "source": [
    "2060  Automatic  1 soyle bir aykiri degere denk geldim '2060' yilindan bir arabanin datasi olamaz bu bilgi ya 2006 ve yanlislikla \n",
    "2060 girildi yada direk yanlis bunu gidermek icin 2060 olan yili 2006 olarak guncelleyebilirim fakat emin olamdigim icin bu data row unu yok edecegim"
   ]
  },
  {
   "cell_type": "code",
   "execution_count": 24,
   "id": "237add66-0270-451c-9de0-a6bb45fc1666",
   "metadata": {},
   "outputs": [
    {
     "data": {
      "text/plain": [
       "year    17726\n",
       "dtype: int64"
      ]
     },
     "execution_count": 24,
     "metadata": {},
     "output_type": "execute_result"
    }
   ],
   "source": [
    "adjusted_df['year'].idxmax()"
   ]
  },
  {
   "cell_type": "code",
   "execution_count": 25,
   "id": "3e58600d-fd2c-4e25-9b68-142194f88fd6",
   "metadata": {},
   "outputs": [
    {
     "data": {
      "text/plain": [
       "year    2020\n",
       "dtype: int64"
      ]
     },
     "execution_count": 25,
     "metadata": {},
     "output_type": "execute_result"
    }
   ],
   "source": [
    "adjusted_df.drop(index=17726,inplace=True)\n",
    "adjusted_df['year'].max()"
   ]
  },
  {
   "cell_type": "markdown",
   "id": "757fdf53-cf79-4ce2-8f42-5fd91348a73f",
   "metadata": {},
   "source": [
    "## MODELS"
   ]
  },
  {
   "cell_type": "code",
   "execution_count": 26,
   "id": "b15a9e46-243c-436d-b836-f5dfb315e97a",
   "metadata": {},
   "outputs": [],
   "source": [
    "from sklearn.model_selection import train_test_split\n",
    "from sklearn.metrics import mean_absolute_error, mean_squared_error, r2_score"
   ]
  },
  {
   "cell_type": "code",
   "execution_count": 27,
   "id": "26507c9d-5196-46a1-82ec-64e3dc8b3add",
   "metadata": {},
   "outputs": [
    {
     "name": "stderr",
     "output_type": "stream",
     "text": [
      "C:\\Users\\Anıl Tek\\AppData\\Local\\Temp\\ipykernel_9648\\612805166.py:1: PerformanceWarning: dropping on a non-lexsorted multi-index without a level parameter may impact performance.\n",
      "  X = adjusted_df.drop(['price','model'],axis=1)\n"
     ]
    }
   ],
   "source": [
    "X = adjusted_df.drop(['price','model'],axis=1)\n",
    "y = adjusted_df['price']\n",
    "\n",
    "X_train, X_test, y_train, y_test = train_test_split(X, y, test_size=0.33, random_state=42)"
   ]
  },
  {
   "cell_type": "code",
   "execution_count": null,
   "id": "309c6d2c-c8c1-46bb-a240-93e35adca563",
   "metadata": {},
   "outputs": [],
   "source": []
  },
  {
   "cell_type": "markdown",
   "id": "ca91f9af-bbbd-4d2d-9592-43f9638ba959",
   "metadata": {},
   "source": [
    "# Linear Regression"
   ]
  },
  {
   "cell_type": "code",
   "execution_count": 28,
   "id": "f42b1ab0-8529-447e-b105-357ab8893e49",
   "metadata": {},
   "outputs": [],
   "source": [
    "from sklearn.linear_model import LinearRegression"
   ]
  },
  {
   "cell_type": "code",
   "execution_count": 29,
   "id": "65a5b317-1445-4dee-9cf7-9117ad8c1581",
   "metadata": {},
   "outputs": [
    {
     "data": {
      "text/html": [
       "<style>#sk-container-id-1 {color: black;}#sk-container-id-1 pre{padding: 0;}#sk-container-id-1 div.sk-toggleable {background-color: white;}#sk-container-id-1 label.sk-toggleable__label {cursor: pointer;display: block;width: 100%;margin-bottom: 0;padding: 0.3em;box-sizing: border-box;text-align: center;}#sk-container-id-1 label.sk-toggleable__label-arrow:before {content: \"▸\";float: left;margin-right: 0.25em;color: #696969;}#sk-container-id-1 label.sk-toggleable__label-arrow:hover:before {color: black;}#sk-container-id-1 div.sk-estimator:hover label.sk-toggleable__label-arrow:before {color: black;}#sk-container-id-1 div.sk-toggleable__content {max-height: 0;max-width: 0;overflow: hidden;text-align: left;background-color: #f0f8ff;}#sk-container-id-1 div.sk-toggleable__content pre {margin: 0.2em;color: black;border-radius: 0.25em;background-color: #f0f8ff;}#sk-container-id-1 input.sk-toggleable__control:checked~div.sk-toggleable__content {max-height: 200px;max-width: 100%;overflow: auto;}#sk-container-id-1 input.sk-toggleable__control:checked~label.sk-toggleable__label-arrow:before {content: \"▾\";}#sk-container-id-1 div.sk-estimator input.sk-toggleable__control:checked~label.sk-toggleable__label {background-color: #d4ebff;}#sk-container-id-1 div.sk-label input.sk-toggleable__control:checked~label.sk-toggleable__label {background-color: #d4ebff;}#sk-container-id-1 input.sk-hidden--visually {border: 0;clip: rect(1px 1px 1px 1px);clip: rect(1px, 1px, 1px, 1px);height: 1px;margin: -1px;overflow: hidden;padding: 0;position: absolute;width: 1px;}#sk-container-id-1 div.sk-estimator {font-family: monospace;background-color: #f0f8ff;border: 1px dotted black;border-radius: 0.25em;box-sizing: border-box;margin-bottom: 0.5em;}#sk-container-id-1 div.sk-estimator:hover {background-color: #d4ebff;}#sk-container-id-1 div.sk-parallel-item::after {content: \"\";width: 100%;border-bottom: 1px solid gray;flex-grow: 1;}#sk-container-id-1 div.sk-label:hover label.sk-toggleable__label {background-color: #d4ebff;}#sk-container-id-1 div.sk-serial::before {content: \"\";position: absolute;border-left: 1px solid gray;box-sizing: border-box;top: 0;bottom: 0;left: 50%;z-index: 0;}#sk-container-id-1 div.sk-serial {display: flex;flex-direction: column;align-items: center;background-color: white;padding-right: 0.2em;padding-left: 0.2em;position: relative;}#sk-container-id-1 div.sk-item {position: relative;z-index: 1;}#sk-container-id-1 div.sk-parallel {display: flex;align-items: stretch;justify-content: center;background-color: white;position: relative;}#sk-container-id-1 div.sk-item::before, #sk-container-id-1 div.sk-parallel-item::before {content: \"\";position: absolute;border-left: 1px solid gray;box-sizing: border-box;top: 0;bottom: 0;left: 50%;z-index: -1;}#sk-container-id-1 div.sk-parallel-item {display: flex;flex-direction: column;z-index: 1;position: relative;background-color: white;}#sk-container-id-1 div.sk-parallel-item:first-child::after {align-self: flex-end;width: 50%;}#sk-container-id-1 div.sk-parallel-item:last-child::after {align-self: flex-start;width: 50%;}#sk-container-id-1 div.sk-parallel-item:only-child::after {width: 0;}#sk-container-id-1 div.sk-dashed-wrapped {border: 1px dashed gray;margin: 0 0.4em 0.5em 0.4em;box-sizing: border-box;padding-bottom: 0.4em;background-color: white;}#sk-container-id-1 div.sk-label label {font-family: monospace;font-weight: bold;display: inline-block;line-height: 1.2em;}#sk-container-id-1 div.sk-label-container {text-align: center;}#sk-container-id-1 div.sk-container {/* jupyter's `normalize.less` sets `[hidden] { display: none; }` but bootstrap.min.css set `[hidden] { display: none !important; }` so we also need the `!important` here to be able to override the default hidden behavior on the sphinx rendered scikit-learn.org. See: https://github.com/scikit-learn/scikit-learn/issues/21755 */display: inline-block !important;position: relative;}#sk-container-id-1 div.sk-text-repr-fallback {display: none;}</style><div id=\"sk-container-id-1\" class=\"sk-top-container\"><div class=\"sk-text-repr-fallback\"><pre>LinearRegression()</pre><b>In a Jupyter environment, please rerun this cell to show the HTML representation or trust the notebook. <br />On GitHub, the HTML representation is unable to render, please try loading this page with nbviewer.org.</b></div><div class=\"sk-container\" hidden><div class=\"sk-item\"><div class=\"sk-estimator sk-toggleable\"><input class=\"sk-toggleable__control sk-hidden--visually\" id=\"sk-estimator-id-1\" type=\"checkbox\" checked><label for=\"sk-estimator-id-1\" class=\"sk-toggleable__label sk-toggleable__label-arrow\">LinearRegression</label><div class=\"sk-toggleable__content\"><pre>LinearRegression()</pre></div></div></div></div></div>"
      ],
      "text/plain": [
       "LinearRegression()"
      ]
     },
     "execution_count": 29,
     "metadata": {},
     "output_type": "execute_result"
    }
   ],
   "source": [
    "lr_model = LinearRegression()\n",
    "lr_model.fit(X_train,y_train)"
   ]
  },
  {
   "cell_type": "code",
   "execution_count": 30,
   "id": "86f5b1db-5566-466d-bbe4-f1f44bd94438",
   "metadata": {},
   "outputs": [],
   "source": [
    "lr_predict = lr_model.predict(X_test)"
   ]
  },
  {
   "cell_type": "code",
   "execution_count": 31,
   "id": "ae206fcc-da65-49a1-af82-a9060d2fb7ae",
   "metadata": {},
   "outputs": [
    {
     "name": "stdout",
     "output_type": "stream",
     "text": [
      "Mean Absolute Error (MAE): 1757.6847650269644\n",
      "Root Mean Squared Error (RMSE): 2440.817485133833\n",
      "R-squared (R²): 0.7363987425938536\n"
     ]
    }
   ],
   "source": [
    "print(f\"Mean Absolute Error (MAE): {mean_absolute_error(y_test,lr_predict)}\")\n",
    "print(f\"Root Mean Squared Error (RMSE): {mean_squared_error(y_test,lr_predict,squared=False)}\")\n",
    "print(f\"R-squared (R²): {r2_score(y_test,lr_predict)}\")"
   ]
  },
  {
   "cell_type": "code",
   "execution_count": 32,
   "id": "8a79df7f-89e4-4d5a-90be-36ecaac270e0",
   "metadata": {},
   "outputs": [
    {
     "data": {
      "text/plain": [
       "price    12279.856833\n",
       "dtype: float64"
      ]
     },
     "execution_count": 32,
     "metadata": {},
     "output_type": "execute_result"
    }
   ],
   "source": [
    "adjusted_df['price'].mean()"
   ]
  },
  {
   "cell_type": "code",
   "execution_count": 33,
   "id": "9b907301-9987-4f55-99e8-4f3720742505",
   "metadata": {},
   "outputs": [
    {
     "name": "stdout",
     "output_type": "stream",
     "text": [
      "tahmin edilen araba fiyati [[-8522.08763674]]\n"
     ]
    }
   ],
   "source": [
    "new_data = np.array([[2000,10000,145,40.1,1.0,0,1,0,0,0,0,0,1]]) \n",
    "predicted=lr_model.predict(new_data)\n",
    "\n",
    "print(f'tahmin edilen araba fiyati {predicted}' )"
   ]
  },
  {
   "cell_type": "code",
   "execution_count": 34,
   "id": "0595c15c-9e53-4295-a559-b0ee7e43b469",
   "metadata": {},
   "outputs": [
    {
     "data": {
      "text/html": [
       "<div>\n",
       "<style scoped>\n",
       "    .dataframe tbody tr th:only-of-type {\n",
       "        vertical-align: middle;\n",
       "    }\n",
       "\n",
       "    .dataframe tbody tr th {\n",
       "        vertical-align: top;\n",
       "    }\n",
       "\n",
       "    .dataframe thead tr th {\n",
       "        text-align: left;\n",
       "    }\n",
       "</style>\n",
       "<table border=\"1\" class=\"dataframe\">\n",
       "  <thead>\n",
       "    <tr>\n",
       "      <th></th>\n",
       "      <th>model</th>\n",
       "      <th>year</th>\n",
       "      <th>price</th>\n",
       "      <th>mileage</th>\n",
       "      <th>tax</th>\n",
       "      <th>mpg</th>\n",
       "      <th>engineSize</th>\n",
       "      <th>transmission_Automatic</th>\n",
       "      <th>transmission_Manual</th>\n",
       "      <th>transmission_Semi</th>\n",
       "      <th>fuel_Diesel</th>\n",
       "      <th>fuel_Electric</th>\n",
       "      <th>fuel_Hybrid</th>\n",
       "      <th>fuel_Other</th>\n",
       "      <th>fuel_Petrol</th>\n",
       "    </tr>\n",
       "  </thead>\n",
       "  <tbody>\n",
       "    <tr>\n",
       "      <th>0</th>\n",
       "      <td>Fiesta</td>\n",
       "      <td>2017</td>\n",
       "      <td>12000</td>\n",
       "      <td>15944</td>\n",
       "      <td>150</td>\n",
       "      <td>57.7</td>\n",
       "      <td>1.0</td>\n",
       "      <td>1</td>\n",
       "      <td>0</td>\n",
       "      <td>0</td>\n",
       "      <td>0</td>\n",
       "      <td>0</td>\n",
       "      <td>0</td>\n",
       "      <td>0</td>\n",
       "      <td>1</td>\n",
       "    </tr>\n",
       "    <tr>\n",
       "      <th>1</th>\n",
       "      <td>Focus</td>\n",
       "      <td>2018</td>\n",
       "      <td>14000</td>\n",
       "      <td>9083</td>\n",
       "      <td>150</td>\n",
       "      <td>57.7</td>\n",
       "      <td>1.0</td>\n",
       "      <td>0</td>\n",
       "      <td>1</td>\n",
       "      <td>0</td>\n",
       "      <td>0</td>\n",
       "      <td>0</td>\n",
       "      <td>0</td>\n",
       "      <td>0</td>\n",
       "      <td>1</td>\n",
       "    </tr>\n",
       "    <tr>\n",
       "      <th>2</th>\n",
       "      <td>Focus</td>\n",
       "      <td>2017</td>\n",
       "      <td>13000</td>\n",
       "      <td>12456</td>\n",
       "      <td>150</td>\n",
       "      <td>57.7</td>\n",
       "      <td>1.0</td>\n",
       "      <td>0</td>\n",
       "      <td>1</td>\n",
       "      <td>0</td>\n",
       "      <td>0</td>\n",
       "      <td>0</td>\n",
       "      <td>0</td>\n",
       "      <td>0</td>\n",
       "      <td>1</td>\n",
       "    </tr>\n",
       "    <tr>\n",
       "      <th>3</th>\n",
       "      <td>Fiesta</td>\n",
       "      <td>2019</td>\n",
       "      <td>17500</td>\n",
       "      <td>10460</td>\n",
       "      <td>145</td>\n",
       "      <td>40.3</td>\n",
       "      <td>1.5</td>\n",
       "      <td>0</td>\n",
       "      <td>1</td>\n",
       "      <td>0</td>\n",
       "      <td>0</td>\n",
       "      <td>0</td>\n",
       "      <td>0</td>\n",
       "      <td>0</td>\n",
       "      <td>1</td>\n",
       "    </tr>\n",
       "    <tr>\n",
       "      <th>4</th>\n",
       "      <td>Fiesta</td>\n",
       "      <td>2019</td>\n",
       "      <td>16500</td>\n",
       "      <td>1482</td>\n",
       "      <td>145</td>\n",
       "      <td>48.7</td>\n",
       "      <td>1.0</td>\n",
       "      <td>1</td>\n",
       "      <td>0</td>\n",
       "      <td>0</td>\n",
       "      <td>0</td>\n",
       "      <td>0</td>\n",
       "      <td>0</td>\n",
       "      <td>0</td>\n",
       "      <td>1</td>\n",
       "    </tr>\n",
       "  </tbody>\n",
       "</table>\n",
       "</div>"
      ],
      "text/plain": [
       "     model  year  price mileage  tax   mpg engineSize transmission_Automatic  \\\n",
       "0   Fiesta  2017  12000   15944  150  57.7        1.0                      1   \n",
       "1    Focus  2018  14000    9083  150  57.7        1.0                      0   \n",
       "2    Focus  2017  13000   12456  150  57.7        1.0                      0   \n",
       "3   Fiesta  2019  17500   10460  145  40.3        1.5                      0   \n",
       "4   Fiesta  2019  16500    1482  145  48.7        1.0                      1   \n",
       "\n",
       "  transmission_Manual transmission_Semi fuel_Diesel fuel_Electric fuel_Hybrid  \\\n",
       "0                   0                 0           0             0           0   \n",
       "1                   1                 0           0             0           0   \n",
       "2                   1                 0           0             0           0   \n",
       "3                   1                 0           0             0           0   \n",
       "4                   0                 0           0             0           0   \n",
       "\n",
       "  fuel_Other fuel_Petrol  \n",
       "0          0           1  \n",
       "1          0           1  \n",
       "2          0           1  \n",
       "3          0           1  \n",
       "4          0           1  "
      ]
     },
     "execution_count": 34,
     "metadata": {},
     "output_type": "execute_result"
    }
   ],
   "source": [
    "adjusted_df.head()"
   ]
  },
  {
   "cell_type": "code",
   "execution_count": null,
   "id": "9e8cfcd0-1329-4423-9600-6a3ecb6e7b82",
   "metadata": {},
   "outputs": [],
   "source": []
  },
  {
   "cell_type": "markdown",
   "id": "c22e29e4-d2b1-4d23-809f-a83fe1d23902",
   "metadata": {},
   "source": [
    "# Regression with TensorFlow"
   ]
  },
  {
   "cell_type": "code",
   "execution_count": 35,
   "id": "32f70252-82a5-4806-adf7-6c3f3d3df0d6",
   "metadata": {},
   "outputs": [
    {
     "name": "stdout",
     "output_type": "stream",
     "text": [
      "WARNING:tensorflow:From C:\\Django\\football\\footenv\\Lib\\site-packages\\keras\\src\\losses.py:2976: The name tf.losses.sparse_softmax_cross_entropy is deprecated. Please use tf.compat.v1.losses.sparse_softmax_cross_entropy instead.\n",
      "\n"
     ]
    }
   ],
   "source": [
    "import tensorflow as tf"
   ]
  },
  {
   "cell_type": "code",
   "execution_count": 36,
   "id": "0c65c0a5-9485-4c1e-83dc-4eeda8f0d0b6",
   "metadata": {},
   "outputs": [],
   "source": [
    "from sklearn.preprocessing import StandardScaler"
   ]
  },
  {
   "cell_type": "code",
   "execution_count": 37,
   "id": "3fe4d266-affe-46a2-b983-154ff332e02b",
   "metadata": {},
   "outputs": [],
   "source": [
    "#scaler = StandardScaler()\n",
    "#X_train = scaler.fit_transform(X_train)\n",
    "#X_test =  scaler.fit_transform(X_test)"
   ]
  },
  {
   "cell_type": "code",
   "execution_count": 38,
   "id": "9a81c6ee-5b8d-4903-9401-0f5fe311dad3",
   "metadata": {},
   "outputs": [],
   "source": [
    "#tensorflow_model = tf.keras.Sequential([\n",
    "#    tf.keras.layers.Dense(64,activation='relu', \n",
    "#                         input_shape=(13,)),\n",
    "#    tf.keras.layers.Dropout(0.2),\n",
    "#    tf.keras.layers.Dense(64,activation='relu'),\n",
    "#    tf.keras.layers.Dropout(0.2),\n",
    "#    tf.keras.layers.Dense(64,activation='relu'),\n",
    "#    tf.keras.layers.Dropout(0.2),\n",
    "#    tf.keras.layers.Dense(32,activation='relu'),\n",
    "#    tf.keras.layers.Dense(1)\n",
    "#])"
   ]
  },
  {
   "cell_type": "code",
   "execution_count": 39,
   "id": "e4273ac8-17de-41ac-b628-765068372c13",
   "metadata": {},
   "outputs": [],
   "source": [
    "#tensorflow_model.compile(optimizer = tf.keras.optimizers.Adam(learning_rate=0.001),loss='mean_squared_error')"
   ]
  },
  {
   "cell_type": "code",
   "execution_count": 40,
   "id": "099457c4-42f6-40ff-9364-2e05f1a77a38",
   "metadata": {},
   "outputs": [],
   "source": [
    "#tensorflow_model.fit(X_train,y_train,epochs=1000,batch_size=32,validation_data=(X_test,y_test))"
   ]
  },
  {
   "cell_type": "code",
   "execution_count": 41,
   "id": "5179262c-1d3a-4887-aea5-66183d1df7eb",
   "metadata": {},
   "outputs": [],
   "source": [
    "#loss = tensorflow_model.evaluate(X_test,y_test)\n",
    "#print(f'Test Loss (RMSE) : {loss ** 0.5}')"
   ]
  },
  {
   "cell_type": "code",
   "execution_count": 42,
   "id": "0805238a-9939-4dc4-b962-3d003c6f756f",
   "metadata": {},
   "outputs": [
    {
     "data": {
      "text/plain": [
       "price    12279.856833\n",
       "dtype: float64"
      ]
     },
     "execution_count": 42,
     "metadata": {},
     "output_type": "execute_result"
    }
   ],
   "source": [
    "adjusted_df['price'].mean()"
   ]
  },
  {
   "cell_type": "markdown",
   "id": "3f952352-dbfa-4120-8aca-b29e4da6fe2f",
   "metadata": {},
   "source": [
    "# -------------------------------------------------------------------------------------"
   ]
  },
  {
   "cell_type": "raw",
   "id": "906b56c5-9579-47ec-8952-32496fa357b7",
   "metadata": {},
   "source": [
    "for batch in [32,64,128]:\n",
    "    for epochs in [200,600,800]:\n",
    "        for learning_rate in [0.001,0.005,0.01]:\n",
    "            print(f'batch :{batch} epochs :{epochs} lr :{learning_rate}')\n",
    "            tensorflow_model.compile(optimizer = tf.keras.optimizers.Adam(learning_rate=learning_rate),loss='mean_squared_error')\n",
    "            tensorflow_model.fit(X_train,y_train,epochs=epochs,batch_size=batch,validation_data=(X_test,y_test),verbose=0)\n",
    "            loss = tensorflow_model.evaluate(X_test,y_test)\n",
    "            print(f'Test Loss (RMSE) : {loss ** 0.5}')\n",
    "             "
   ]
  },
  {
   "cell_type": "markdown",
   "id": "8bb0d0a0-2c44-4043-b5f0-dc6b51b0f6b6",
   "metadata": {},
   "source": [
    "# -------------------------------------------------------------------------"
   ]
  },
  {
   "cell_type": "code",
   "execution_count": 43,
   "id": "560297ee-34e9-4ccf-a73c-44274f9fb48e",
   "metadata": {},
   "outputs": [],
   "source": [
    "# yukarida yazdigim for loop sonucu olarak en optimum degerei veren kombinasyon (batch :32 epochs :600 lr :0.001 ) oldu\n",
    "#tensorflow_model.compile(optimizer = tf.keras.optimizers.Adam(learning_rate=0.001),loss='mean_squared_error')\n",
    "#tensorflow_model.fit(X_train,y_train,epochs=600,batch_size=32,validation_split=0.2,verbose=0)\n",
    "#loss = tensorflow_model.evaluate(X_test,y_test)\n",
    "#print(f'Test Loss (RMSE) : {loss ** 0.5}')"
   ]
  },
  {
   "cell_type": "code",
   "execution_count": 44,
   "id": "e9a1e5f5-25df-4b12-9224-c40934c85e0b",
   "metadata": {},
   "outputs": [
    {
     "data": {
      "text/html": [
       "<div>\n",
       "<style scoped>\n",
       "    .dataframe tbody tr th:only-of-type {\n",
       "        vertical-align: middle;\n",
       "    }\n",
       "\n",
       "    .dataframe tbody tr th {\n",
       "        vertical-align: top;\n",
       "    }\n",
       "\n",
       "    .dataframe thead tr th {\n",
       "        text-align: left;\n",
       "    }\n",
       "</style>\n",
       "<table border=\"1\" class=\"dataframe\">\n",
       "  <thead>\n",
       "    <tr>\n",
       "      <th></th>\n",
       "      <th>year</th>\n",
       "      <th>mileage</th>\n",
       "      <th>tax</th>\n",
       "      <th>mpg</th>\n",
       "      <th>engineSize</th>\n",
       "      <th>transmission_Automatic</th>\n",
       "      <th>transmission_Manual</th>\n",
       "      <th>transmission_Semi</th>\n",
       "      <th>fuel_Diesel</th>\n",
       "      <th>fuel_Electric</th>\n",
       "      <th>fuel_Hybrid</th>\n",
       "      <th>fuel_Other</th>\n",
       "      <th>fuel_Petrol</th>\n",
       "    </tr>\n",
       "  </thead>\n",
       "  <tbody>\n",
       "    <tr>\n",
       "      <th>0</th>\n",
       "      <td>2017</td>\n",
       "      <td>15944</td>\n",
       "      <td>150</td>\n",
       "      <td>57.7</td>\n",
       "      <td>1.0</td>\n",
       "      <td>1</td>\n",
       "      <td>0</td>\n",
       "      <td>0</td>\n",
       "      <td>0</td>\n",
       "      <td>0</td>\n",
       "      <td>0</td>\n",
       "      <td>0</td>\n",
       "      <td>1</td>\n",
       "    </tr>\n",
       "    <tr>\n",
       "      <th>1</th>\n",
       "      <td>2018</td>\n",
       "      <td>9083</td>\n",
       "      <td>150</td>\n",
       "      <td>57.7</td>\n",
       "      <td>1.0</td>\n",
       "      <td>0</td>\n",
       "      <td>1</td>\n",
       "      <td>0</td>\n",
       "      <td>0</td>\n",
       "      <td>0</td>\n",
       "      <td>0</td>\n",
       "      <td>0</td>\n",
       "      <td>1</td>\n",
       "    </tr>\n",
       "    <tr>\n",
       "      <th>2</th>\n",
       "      <td>2017</td>\n",
       "      <td>12456</td>\n",
       "      <td>150</td>\n",
       "      <td>57.7</td>\n",
       "      <td>1.0</td>\n",
       "      <td>0</td>\n",
       "      <td>1</td>\n",
       "      <td>0</td>\n",
       "      <td>0</td>\n",
       "      <td>0</td>\n",
       "      <td>0</td>\n",
       "      <td>0</td>\n",
       "      <td>1</td>\n",
       "    </tr>\n",
       "    <tr>\n",
       "      <th>3</th>\n",
       "      <td>2019</td>\n",
       "      <td>10460</td>\n",
       "      <td>145</td>\n",
       "      <td>40.3</td>\n",
       "      <td>1.5</td>\n",
       "      <td>0</td>\n",
       "      <td>1</td>\n",
       "      <td>0</td>\n",
       "      <td>0</td>\n",
       "      <td>0</td>\n",
       "      <td>0</td>\n",
       "      <td>0</td>\n",
       "      <td>1</td>\n",
       "    </tr>\n",
       "    <tr>\n",
       "      <th>4</th>\n",
       "      <td>2019</td>\n",
       "      <td>1482</td>\n",
       "      <td>145</td>\n",
       "      <td>48.7</td>\n",
       "      <td>1.0</td>\n",
       "      <td>1</td>\n",
       "      <td>0</td>\n",
       "      <td>0</td>\n",
       "      <td>0</td>\n",
       "      <td>0</td>\n",
       "      <td>0</td>\n",
       "      <td>0</td>\n",
       "      <td>1</td>\n",
       "    </tr>\n",
       "  </tbody>\n",
       "</table>\n",
       "</div>"
      ],
      "text/plain": [
       "   year mileage  tax   mpg engineSize transmission_Automatic  \\\n",
       "0  2017   15944  150  57.7        1.0                      1   \n",
       "1  2018    9083  150  57.7        1.0                      0   \n",
       "2  2017   12456  150  57.7        1.0                      0   \n",
       "3  2019   10460  145  40.3        1.5                      0   \n",
       "4  2019    1482  145  48.7        1.0                      1   \n",
       "\n",
       "  transmission_Manual transmission_Semi fuel_Diesel fuel_Electric fuel_Hybrid  \\\n",
       "0                   0                 0           0             0           0   \n",
       "1                   1                 0           0             0           0   \n",
       "2                   1                 0           0             0           0   \n",
       "3                   1                 0           0             0           0   \n",
       "4                   0                 0           0             0           0   \n",
       "\n",
       "  fuel_Other fuel_Petrol  \n",
       "0          0           1  \n",
       "1          0           1  \n",
       "2          0           1  \n",
       "3          0           1  \n",
       "4          0           1  "
      ]
     },
     "execution_count": 44,
     "metadata": {},
     "output_type": "execute_result"
    }
   ],
   "source": [
    "X.head()"
   ]
  },
  {
   "cell_type": "code",
   "execution_count": null,
   "id": "0a4c366d-b342-41c8-b5b6-f1fa9784c824",
   "metadata": {},
   "outputs": [],
   "source": []
  },
  {
   "cell_type": "code",
   "execution_count": 45,
   "id": "806ffcd8-148f-4815-a062-731577e372dd",
   "metadata": {},
   "outputs": [
    {
     "data": {
      "text/plain": [
       "(12036, 13)"
      ]
     },
     "execution_count": 45,
     "metadata": {},
     "output_type": "execute_result"
    }
   ],
   "source": [
    "X_train.shape"
   ]
  },
  {
   "cell_type": "markdown",
   "id": "a110ae0e-d9b9-4a0d-b762-d98bb96bef99",
   "metadata": {},
   "source": [
    "## Her ne kadar RMSE degeri Linear Regressiondan tutarli ciksa da yeni verilerde predict i bazen cok kayitsiz dugumler ve dropoutlar degistigi zaman ise cok hassas ve ucuk degerlere kayiyor bu sebeple denemelerime ragmen pek basarili olmadi (RANDOM FOREST DENEYECEGIM)"
   ]
  },
  {
   "cell_type": "markdown",
   "id": "d3db6748-99bd-46b9-9970-a1bd926e4b24",
   "metadata": {},
   "source": [
    "# Random Forest"
   ]
  },
  {
   "cell_type": "code",
   "execution_count": 46,
   "id": "e552c689-4e5d-4f29-adf9-f1a838234515",
   "metadata": {},
   "outputs": [],
   "source": [
    "from sklearn.ensemble import RandomForestRegressor"
   ]
  },
  {
   "cell_type": "code",
   "execution_count": 47,
   "id": "4b1be7ff-b14d-4bf9-9e04-ece3eec8302b",
   "metadata": {},
   "outputs": [
    {
     "name": "stderr",
     "output_type": "stream",
     "text": [
      "C:\\Users\\Anıl Tek\\AppData\\Local\\Temp\\ipykernel_9648\\3902051652.py:1: PerformanceWarning: dropping on a non-lexsorted multi-index without a level parameter may impact performance.\n",
      "  X = adjusted_df.drop(['price','model'],axis=1)\n"
     ]
    }
   ],
   "source": [
    "X = adjusted_df.drop(['price','model'],axis=1)\n",
    "y = adjusted_df['price']\n",
    "## Validation setini bu sefer manuel olarak ayiriyorum tensorflow icinde halihazirda train data setinden ayirabiliyordu random forest bize \n",
    "## oyle bir secenek sunmuyor bu sebeple kendim ayriyorum\n",
    "X_train, X_test, y_train, y_test = train_test_split(X, y, test_size=0.2, random_state=42)\n",
    "X_train, X_val, y_train, y_val = train_test_split(X_train, y_train, test_size=0.25, random_state=42)"
   ]
  },
  {
   "cell_type": "code",
   "execution_count": 48,
   "id": "9e776027-85bc-4ec5-b1d4-4eaf980f784a",
   "metadata": {},
   "outputs": [
    {
     "name": "stderr",
     "output_type": "stream",
     "text": [
      "C:\\Django\\football\\footenv\\Lib\\site-packages\\sklearn\\base.py:1152: DataConversionWarning: A column-vector y was passed when a 1d array was expected. Please change the shape of y to (n_samples,), for example using ravel().\n",
      "  return fit_method(estimator, *args, **kwargs)\n"
     ]
    },
    {
     "name": "stdout",
     "output_type": "stream",
     "text": [
      "Validation seti üzerinde Ortalama Kare Hata (RMSE): 1404.9608281864178\n",
      "Test seti üzerinde Ortalama Kare Hata (RMSE): 1420.5150922556224\n"
     ]
    }
   ],
   "source": [
    "rf_model = RandomForestRegressor(n_estimators=100, random_state=42)\n",
    "rf_model.fit(X_train, y_train)\n",
    "val_predictions = rf_model.predict(X_val)\n",
    "val_mse = (mean_squared_error(y_val, val_predictions)) **0.5\n",
    "print(\"Validation seti üzerinde Ortalama Kare Hata (RMSE):\", val_mse)\n",
    "test_predictions = rf_model.predict(X_test)\n",
    "test_mse = (mean_squared_error(y_test, test_predictions)) **0.5\n",
    "print(\"Test seti üzerinde Ortalama Kare Hata (RMSE):\", test_mse)"
   ]
  },
  {
   "cell_type": "code",
   "execution_count": 49,
   "id": "1bd421cb-2d3d-41a9-84c9-fa55cfa6943a",
   "metadata": {},
   "outputs": [
    {
     "name": "stdout",
     "output_type": "stream",
     "text": [
      "Validation seti üzerinde RMSE: 37.48280710120865\n",
      "Test seti üzerinde RMSE: 37.689721307746794\n"
     ]
    }
   ],
   "source": [
    "import math\n",
    "\n",
    "val_rmse = math.sqrt(val_mse)\n",
    "test_rmse = math.sqrt(test_mse)\n",
    "\n",
    "print(\"Validation seti üzerinde RMSE:\", val_rmse)\n",
    "print(\"Test seti üzerinde RMSE:\", test_rmse)"
   ]
  },
  {
   "cell_type": "code",
   "execution_count": 68,
   "id": "0208399f-ca86-47b9-8477-fccf960f0442",
   "metadata": {},
   "outputs": [
    {
     "name": "stdout",
     "output_type": "stream",
     "text": [
      "tahmin edilen araba fiyati [18380.38]\n"
     ]
    }
   ],
   "source": [
    "new_data = np.array([[2019,10000,350,1.1,1.0,0,1,0,0,0,0,1,0]]) \n",
    "predicted=rf_model.predict(new_data)\n",
    "\n",
    "print(f'tahmin edilen araba fiyati {predicted}' )"
   ]
  },
  {
   "cell_type": "code",
   "execution_count": 51,
   "id": "262fa3e1-70e5-4005-8619-cbc9aee82529",
   "metadata": {},
   "outputs": [
    {
     "data": {
      "text/plain": [
       "model\n",
       " Fiesta                   6557\n",
       " Focus                    4588\n",
       " Kuga                     2225\n",
       " EcoSport                 1143\n",
       " C-MAX                     543\n",
       " Ka+                       531\n",
       " Mondeo                    526\n",
       " B-MAX                     355\n",
       " S-MAX                     296\n",
       " Grand C-MAX               247\n",
       " Galaxy                    228\n",
       " Edge                      208\n",
       " KA                        199\n",
       " Puma                       80\n",
       " Tourneo Custom             69\n",
       " Grand Tourneo Connect      59\n",
       " Mustang                    57\n",
       " Tourneo Connect            33\n",
       " Fusion                     16\n",
       " Streetka                    2\n",
       " Ranger                      1\n",
       " Escort                      1\n",
       " Transit Tourneo             1\n",
       "Focus                        1\n",
       "Name: count, dtype: int64"
      ]
     },
     "execution_count": 51,
     "metadata": {},
     "output_type": "execute_result"
    }
   ],
   "source": [
    "df['model'].value_counts()"
   ]
  },
  {
   "cell_type": "code",
   "execution_count": 69,
   "id": "8add24c0-35c5-4713-983c-fc23eb9f8190",
   "metadata": {},
   "outputs": [],
   "source": [
    "from joblib import dump"
   ]
  },
  {
   "cell_type": "code",
   "execution_count": 70,
   "id": "bd355531-c5fe-4083-a1af-16ca75de447a",
   "metadata": {},
   "outputs": [
    {
     "data": {
      "text/plain": [
       "['./../savedModels/carmodel.joblib']"
      ]
     },
     "execution_count": 70,
     "metadata": {},
     "output_type": "execute_result"
    }
   ],
   "source": [
    "dump(rf_model,'./../savedModels/carmodel.joblib')"
   ]
  },
  {
   "cell_type": "code",
   "execution_count": null,
   "id": "dfac8b6d-32fc-49f7-bb11-e691514d76df",
   "metadata": {},
   "outputs": [],
   "source": []
  }
 ],
 "metadata": {
  "kernelspec": {
   "display_name": "footenv",
   "language": "python",
   "name": "python3"
  },
  "language_info": {
   "codemirror_mode": {
    "name": "ipython",
    "version": 3
   },
   "file_extension": ".py",
   "mimetype": "text/x-python",
   "name": "python",
   "nbconvert_exporter": "python",
   "pygments_lexer": "ipython3",
   "version": "3.11.5"
  }
 },
 "nbformat": 4,
 "nbformat_minor": 5
}
